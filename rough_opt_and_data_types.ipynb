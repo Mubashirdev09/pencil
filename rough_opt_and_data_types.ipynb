{
  "nbformat": 4,
  "nbformat_minor": 0,
  "metadata": {
    "colab": {
      "provenance": [],
      "authorship_tag": "ABX9TyP8tSS4JeOdVLh84vmkYi2e",
      "include_colab_link": true
    },
    "kernelspec": {
      "name": "python3",
      "display_name": "Python 3"
    },
    "language_info": {
      "name": "python"
    }
  },
  "cells": [
    {
      "cell_type": "markdown",
      "metadata": {
        "id": "view-in-github",
        "colab_type": "text"
      },
      "source": [
        "<a href=\"https://colab.research.google.com/github/mubashircarvi/pencil/blob/main/rough_opt_and_data_types.ipynb\" target=\"_parent\"><img src=\"https://colab.research.google.com/assets/colab-badge.svg\" alt=\"Open In Colab\"/></a>"
      ]
    },
    {
      "cell_type": "code",
      "execution_count": null,
      "metadata": {
        "colab": {
          "base_uri": "https://localhost:8080/"
        },
        "id": "2S7KsXJmkTWl",
        "outputId": "44db0629-5a3c-432f-a4f4-6be94c756335"
      },
      "outputs": [
        {
          "output_type": "execute_result",
          "data": {
            "text/plain": [
              "1"
            ]
          },
          "metadata": {},
          "execution_count": 3
        }
      ],
      "source": [
        "a= 5\n",
        "b= 9\n",
        "#a/b\n",
        "#b/a\n",
        "b//a"
      ]
    },
    {
      "cell_type": "code",
      "source": [
        "a=175\n",
        "b=15\n",
        "print(a%b)\n",
        "print(a/b)"
      ],
      "metadata": {
        "colab": {
          "base_uri": "https://localhost:8080/"
        },
        "id": "8jv6-ivxlTXj",
        "outputId": "3e677634-7770-43ce-a66a-2f7802efcda9"
      },
      "execution_count": null,
      "outputs": [
        {
          "output_type": "stream",
          "name": "stdout",
          "text": [
            "0\n",
            "35.0\n"
          ]
        }
      ]
    },
    {
      "cell_type": "code",
      "source": [
        "#exponent\n",
        "\n",
        "a,b,c=2,6,3\n",
        "\n",
        "print(a**c**c)\n",
        "2**27"
      ],
      "metadata": {
        "colab": {
          "base_uri": "https://localhost:8080/"
        },
        "id": "L4czLtU0mI3z",
        "outputId": "1b0f5b55-4dde-4e77-c8e0-246807751181"
      },
      "execution_count": null,
      "outputs": [
        {
          "output_type": "stream",
          "name": "stdout",
          "text": [
            "134217728\n"
          ]
        },
        {
          "output_type": "execute_result",
          "data": {
            "text/plain": [
              "134217728"
            ]
          },
          "metadata": {},
          "execution_count": 10
        }
      ]
    },
    {
      "cell_type": "markdown",
      "source": [],
      "metadata": {
        "id": "IG7iBkQdmQDA"
      }
    },
    {
      "cell_type": "code",
      "source": [
        "#(4%2) > (2%4)\n",
        "#2 and 3\n",
        "#([] and {} and 0.0 and  '')\n",
        "print({\n",
        "    0} and 0 )\n",
        "type([0])"
      ],
      "metadata": {
        "colab": {
          "base_uri": "https://localhost:8080/"
        },
        "id": "-K22p5tMmPO9",
        "outputId": "4c2aa60e-432f-4d3f-efc3-91808c1e445e"
      },
      "execution_count": null,
      "outputs": [
        {
          "output_type": "stream",
          "name": "stdout",
          "text": [
            "0\n"
          ]
        },
        {
          "output_type": "execute_result",
          "data": {
            "text/plain": [
              "list"
            ]
          },
          "metadata": {},
          "execution_count": 28
        }
      ]
    },
    {
      "cell_type": "code",
      "source": [
        "print( 3 or 5 or 7 and 15 and 67 and 56 or 'hey')"
      ],
      "metadata": {
        "colab": {
          "base_uri": "https://localhost:8080/"
        },
        "id": "YB4gzCQ6u7Zj",
        "outputId": "337059d3-d733-4479-8b65-9616a749c85e"
      },
      "execution_count": null,
      "outputs": [
        {
          "output_type": "stream",
          "name": "stdout",
          "text": [
            "3\n"
          ]
        }
      ]
    },
    {
      "cell_type": "code",
      "source": [
        "((1,2) is (1,2))\n",
        "([1,2] is [1,2])"
      ],
      "metadata": {
        "colab": {
          "base_uri": "https://localhost:8080/"
        },
        "id": "Jqpqxsn4zQC3",
        "outputId": "b22f8d0c-4838-4e72-b06b-e5956b4eb2f4"
      },
      "execution_count": null,
      "outputs": [
        {
          "output_type": "stream",
          "name": "stderr",
          "text": [
            "<>:1: SyntaxWarning: \"is\" with a literal. Did you mean \"==\"?\n",
            "<>:1: SyntaxWarning: \"is\" with a literal. Did you mean \"==\"?\n",
            "<ipython-input-37-9cf6fdd1020e>:1: SyntaxWarning: \"is\" with a literal. Did you mean \"==\"?\n",
            "  ((1,2) is (1,2))\n"
          ]
        },
        {
          "output_type": "execute_result",
          "data": {
            "text/plain": [
              "False"
            ]
          },
          "metadata": {},
          "execution_count": 37
        }
      ]
    },
    {
      "cell_type": "code",
      "source": [
        "2 is 2.0"
      ],
      "metadata": {
        "colab": {
          "base_uri": "https://localhost:8080/"
        },
        "id": "lgpTLWTw0PhT",
        "outputId": "787b7e07-920f-4698-ab5d-71bab55ffe71"
      },
      "execution_count": null,
      "outputs": [
        {
          "output_type": "stream",
          "name": "stderr",
          "text": [
            "<>:1: SyntaxWarning: \"is\" with a literal. Did you mean \"==\"?\n",
            "<>:1: SyntaxWarning: \"is\" with a literal. Did you mean \"==\"?\n",
            "<ipython-input-39-250a30dd1028>:1: SyntaxWarning: \"is\" with a literal. Did you mean \"==\"?\n",
            "  2 is 2.0\n"
          ]
        },
        {
          "output_type": "execute_result",
          "data": {
            "text/plain": [
              "False"
            ]
          },
          "metadata": {},
          "execution_count": 39
        }
      ]
    },
    {
      "cell_type": "code",
      "source": [],
      "metadata": {
        "id": "ruQgBE_lDb-r"
      },
      "execution_count": null,
      "outputs": []
    },
    {
      "cell_type": "markdown",
      "source": [
        "DETAILED DATA TYPES"
      ],
      "metadata": {
        "id": "BlP6OCXoEXpD"
      }
    },
    {
      "cell_type": "markdown",
      "source": [],
      "metadata": {
        "id": "3ONhGWnfEXiu"
      }
    },
    {
      "cell_type": "code",
      "source": [
        "# a = 'Python'\n",
        "# a = \"Python\"\n",
        "a = str(\"python\")\n",
        "type(a)"
      ],
      "metadata": {
        "colab": {
          "base_uri": "https://localhost:8080/"
        },
        "id": "0KfRvpyiEbTT",
        "outputId": "3a5e4529-464b-482f-961a-f2a4188dd02e"
      },
      "execution_count": null,
      "outputs": [
        {
          "output_type": "execute_result",
          "data": {
            "text/plain": [
              "str"
            ]
          },
          "metadata": {},
          "execution_count": 2
        }
      ]
    },
    {
      "cell_type": "code",
      "source": [
        "# a = 'mub'\n",
        "# b = \"200\"\n",
        "# c = 'young'\n",
        "\n",
        "a,b,c = 'mub',\"200\", 'young'\n",
        "#print(\"My name is\",a)\n",
        "#print('My name is ',a,\" I am \",c, \" and worth of \",b,\" crores.\")\n",
        "\n",
        "# String concatenation\n",
        "# print('My name is '+a+\" I am \"+c+ \" and worth of \"+b+\" crores.\")\n",
        "\n",
        "#print(f\"My name is {a} I am {c} and worth of {b} crores.\")\n",
        "\n",
        "print(\"My name is {} I am {} and worth of {} crores.\".format(a,c,b))\n",
        "\n",
        "print(\"My name is {0} I am {2} and worth of {1} crores.\".format(a,b,c))"
      ],
      "metadata": {
        "colab": {
          "base_uri": "https://localhost:8080/"
        },
        "id": "kzrXG42FF-KY",
        "outputId": "bcfebd4b-13e1-408b-e681-edbfc9271ff5"
      },
      "execution_count": null,
      "outputs": [
        {
          "output_type": "stream",
          "name": "stdout",
          "text": [
            "My name is mub I am young and worth of 200 crores.\n",
            "My name is mub I am young and worth of 200 crores.\n"
          ]
        }
      ]
    },
    {
      "cell_type": "code",
      "source": [
        "a = 'python'\n",
        "# otp\n",
        "a[0]+a[5]"
      ],
      "metadata": {
        "colab": {
          "base_uri": "https://localhost:8080/",
          "height": 36
        },
        "id": "ztR1YKDyHMPy",
        "outputId": "3adbc3b5-0c35-4902-9548-89e8bba74d35"
      },
      "execution_count": null,
      "outputs": [
        {
          "output_type": "execute_result",
          "data": {
            "text/plain": [
              "'pn'"
            ],
            "application/vnd.google.colaboratory.intrinsic+json": {
              "type": "string"
            }
          },
          "metadata": {},
          "execution_count": 13
        }
      ]
    },
    {
      "cell_type": "code",
      "source": [
        "a='232'\n",
        "#='fgds'\n",
        "#a.isalpha()#alphabetical string\n",
        "#a.isalnum()#num nd alphabet\n",
        "#a.isnumeric()#num\n",
        "#a.isdigit()\n",
        "a.isdecimal()"
      ],
      "metadata": {
        "colab": {
          "base_uri": "https://localhost:8080/"
        },
        "id": "WJvodkVCHul7",
        "outputId": "3978a075-bccb-45dc-998f-926b2bb7e2e3"
      },
      "execution_count": null,
      "outputs": [
        {
          "output_type": "execute_result",
          "data": {
            "text/plain": [
              "True"
            ]
          },
          "metadata": {},
          "execution_count": 35
        }
      ]
    },
    {
      "cell_type": "code",
      "source": [
        "a='python'\n",
        "a.index('t')\n",
        "a.find('n')"
      ],
      "metadata": {
        "colab": {
          "base_uri": "https://localhost:8080/"
        },
        "id": "6Z1jb61WKd7d",
        "outputId": "08e6d04f-8673-48b0-8ab1-4ea2232f0ed8"
      },
      "execution_count": null,
      "outputs": [
        {
          "output_type": "execute_result",
          "data": {
            "text/plain": [
              "5"
            ]
          },
          "metadata": {},
          "execution_count": 38
        }
      ]
    },
    {
      "cell_type": "code",
      "source": [
        "a = 'Python'\n",
        "a.replace('h','H')\n",
        "a = ' ☠️😷 '\n",
        "print(a)\n",
        "type(a)"
      ],
      "metadata": {
        "colab": {
          "base_uri": "https://localhost:8080/"
        },
        "id": "QgTNsGWRKx2x",
        "outputId": "d95290c6-c71b-4a1a-f90a-3ea817cfcf0d"
      },
      "execution_count": null,
      "outputs": [
        {
          "output_type": "stream",
          "name": "stdout",
          "text": [
            " ☠️😷 \n"
          ]
        },
        {
          "output_type": "execute_result",
          "data": {
            "text/plain": [
              "str"
            ]
          },
          "metadata": {},
          "execution_count": 42
        }
      ]
    },
    {
      "cell_type": "code",
      "source": [
        "a = 60\n",
        "bin(a)\n",
        "oct(a)\n",
        "hex(a)"
      ],
      "metadata": {
        "colab": {
          "base_uri": "https://localhost:8080/",
          "height": 36
        },
        "id": "z5vrWPOzLEZJ",
        "outputId": "ddf50adc-7df9-476c-b6d8-1dda92906f64"
      },
      "execution_count": null,
      "outputs": [
        {
          "output_type": "execute_result",
          "data": {
            "text/plain": [
              "'0x3c'"
            ],
            "application/vnd.google.colaboratory.intrinsic+json": {
              "type": "string"
            }
          },
          "metadata": {},
          "execution_count": 49
        }
      ]
    },
    {
      "cell_type": "code",
      "source": [
        "#a = 0o74\n",
        "a = 0x3c\n",
        "# hex(a)\n",
        "oct(a)"
      ],
      "metadata": {
        "colab": {
          "base_uri": "https://localhost:8080/",
          "height": 36
        },
        "id": "cZxV9pDPLSfX",
        "outputId": "5a9111f7-39df-4d55-8a36-0f39b1de63f9"
      },
      "execution_count": null,
      "outputs": [
        {
          "output_type": "execute_result",
          "data": {
            "text/plain": [
              "'0o74'"
            ],
            "application/vnd.google.colaboratory.intrinsic+json": {
              "type": "string"
            }
          },
          "metadata": {},
          "execution_count": 51
        }
      ]
    },
    {
      "cell_type": "code",
      "source": [
        "a= 1,2,3\n",
        "type(a)"
      ],
      "metadata": {
        "id": "elCAD7VcLZBN",
        "colab": {
          "base_uri": "https://localhost:8080/"
        },
        "outputId": "c6796669-9a5a-4fc7-eeb2-fdcc075d7507"
      },
      "execution_count": null,
      "outputs": [
        {
          "output_type": "execute_result",
          "data": {
            "text/plain": [
              "tuple"
            ]
          },
          "metadata": {},
          "execution_count": 1
        }
      ]
    },
    {
      "cell_type": "code",
      "source": [
        "a,b,d=1,2,3\n",
        "type(a)"
      ],
      "metadata": {
        "colab": {
          "base_uri": "https://localhost:8080/"
        },
        "id": "1ZsmFtFJvoAm",
        "outputId": "979a2c88-915f-4d66-b381-c53a12d1ed27"
      },
      "execution_count": null,
      "outputs": [
        {
          "output_type": "execute_result",
          "data": {
            "text/plain": [
              "int"
            ]
          },
          "metadata": {},
          "execution_count": 2
        }
      ]
    },
    {
      "cell_type": "code",
      "source": [
        "a='python program'\n",
        "#a.split('t')\n",
        "#a.split()\n",
        "b=a.split(' ')\n",
        "b\n"
      ],
      "metadata": {
        "colab": {
          "base_uri": "https://localhost:8080/"
        },
        "id": "OiyTyGfB9w63",
        "outputId": "c8ef72c8-e7de-4b2d-eade-ba10f64d0a2b"
      },
      "execution_count": null,
      "outputs": [
        {
          "output_type": "execute_result",
          "data": {
            "text/plain": [
              "['python', 'program']"
            ]
          },
          "metadata": {},
          "execution_count": 6
        }
      ]
    },
    {
      "cell_type": "code",
      "source": [
        "a=['1','2','3']\n",
        "\" @ \".join(a)"
      ],
      "metadata": {
        "colab": {
          "base_uri": "https://localhost:8080/",
          "height": 35
        },
        "id": "I2-5ShhG-d2s",
        "outputId": "b433ffcd-de9a-4f50-dc3f-79959961482e"
      },
      "execution_count": null,
      "outputs": [
        {
          "output_type": "execute_result",
          "data": {
            "text/plain": [
              "'1 @ 2 @ 3'"
            ],
            "application/vnd.google.colaboratory.intrinsic+json": {
              "type": "string"
            }
          },
          "metadata": {},
          "execution_count": 7
        }
      ]
    },
    {
      "cell_type": "code",
      "source": [
        "a= '  python    '\n",
        "#a.strip()\n",
        "a.strip(' apbc ')\n",
        "a.replace('t','')"
      ],
      "metadata": {
        "colab": {
          "base_uri": "https://localhost:8080/",
          "height": 35
        },
        "id": "KR4_nGDr-0Gz",
        "outputId": "6ee2d485-b0dd-4358-93cc-f74a5c5e5cb1"
      },
      "execution_count": null,
      "outputs": [
        {
          "output_type": "execute_result",
          "data": {
            "text/plain": [
              "'  pyhon    '"
            ],
            "application/vnd.google.colaboratory.intrinsic+json": {
              "type": "string"
            }
          },
          "metadata": {},
          "execution_count": 14
        }
      ]
    },
    {
      "cell_type": "code",
      "source": [
        "a ='hi'\n",
        "a * 10"
      ],
      "metadata": {
        "colab": {
          "base_uri": "https://localhost:8080/",
          "height": 35
        },
        "id": "vlbVJGjn_RQa",
        "outputId": "d62e29ee-52e3-4b3a-d243-16567653425e"
      },
      "execution_count": null,
      "outputs": [
        {
          "output_type": "execute_result",
          "data": {
            "text/plain": [
              "'hihihihihihihihihihi'"
            ],
            "application/vnd.google.colaboratory.intrinsic+json": {
              "type": "string"
            }
          },
          "metadata": {},
          "execution_count": 17
        }
      ]
    },
    {
      "cell_type": "markdown",
      "source": [
        "LISTS\n"
      ],
      "metadata": {
        "id": "G4xpQoQiAkGj"
      }
    },
    {
      "cell_type": "code",
      "source": [
        "a=[1,2,3,4,5]\n",
        "#type(a)\n",
        "a= list([1,2,3,4,5])\n",
        "a\n"
      ],
      "metadata": {
        "colab": {
          "base_uri": "https://localhost:8080/"
        },
        "id": "pqjbV9uGAmz0",
        "outputId": "d9ac385c-1656-4147-f7a1-ca43af9a0b4f"
      },
      "execution_count": null,
      "outputs": [
        {
          "output_type": "execute_result",
          "data": {
            "text/plain": [
              "[1, 2, 3, 4, 5]"
            ]
          },
          "metadata": {},
          "execution_count": 22
        }
      ]
    },
    {
      "cell_type": "code",
      "source": [],
      "metadata": {
        "id": "UHF9GUR4_-lx"
      },
      "execution_count": null,
      "outputs": []
    },
    {
      "cell_type": "code",
      "source": [
        "a=[1,2.9,3+3j,'hey',[1,]2],(2,3),{2,3},{1:2}]\n",
        "a\n"
      ],
      "metadata": {
        "colab": {
          "base_uri": "https://localhost:8080/"
        },
        "id": "tFY1zEoXBqCH",
        "outputId": "cfd00d7c-b7f2-434b-b23e-98faf3f850d5"
      },
      "execution_count": null,
      "outputs": [
        {
          "output_type": "execute_result",
          "data": {
            "text/plain": [
              "[1, 2.9, (3+3j), 'hey', [1, 2], (2, 3), {2, 3}, {1: 2}]"
            ]
          },
          "metadata": {},
          "execution_count": 25
        }
      ]
    },
    {
      "cell_type": "code",
      "source": [
        "a = [1,2,2,2,3,3,4]\n",
        "a * 3"
      ],
      "metadata": {
        "colab": {
          "base_uri": "https://localhost:8080/"
        },
        "id": "1BwdQlsSCw5u",
        "outputId": "a88f203d-40a3-4b15-a777-d73003a83394"
      },
      "execution_count": null,
      "outputs": [
        {
          "output_type": "execute_result",
          "data": {
            "text/plain": [
              "[1, 2, 2, 2, 3, 3, 4, 1, 2, 2, 2, 3, 3, 4, 1, 2, 2, 2, 3, 3, 4]"
            ]
          },
          "metadata": {},
          "execution_count": 27
        }
      ]
    },
    {
      "cell_type": "markdown",
      "source": [
        "indexiing on list\n"
      ],
      "metadata": {
        "id": "rzQs5DDMDJ-8"
      }
    },
    {
      "cell_type": "code",
      "source": [
        "a=[1,2,3,4,5]\n",
        "a[-2::-2]\n",
        "a[3]"
      ],
      "metadata": {
        "colab": {
          "base_uri": "https://localhost:8080/"
        },
        "id": "mOS2mtWsDnd7",
        "outputId": "30a878b9-3938-4d44-93d4-3ac38dfffc81"
      },
      "execution_count": null,
      "outputs": [
        {
          "output_type": "execute_result",
          "data": {
            "text/plain": [
              "4"
            ]
          },
          "metadata": {},
          "execution_count": 68
        }
      ]
    },
    {
      "cell_type": "markdown",
      "source": [
        "adding on list"
      ],
      "metadata": {
        "id": "pPnX47dREoM9"
      }
    },
    {
      "cell_type": "code",
      "source": [
        "a=[1,2,3,4,5]\n",
        "#a.append(6)\n",
        "#a.append(68)\n",
        "#a\n",
        "#a.append([7,8,9])\n",
        "#a.extend([11,23,45,67])\n",
        "a.insert(2,46)\n",
        "a"
      ],
      "metadata": {
        "colab": {
          "base_uri": "https://localhost:8080/"
        },
        "id": "DoTdi4FBEqrp",
        "outputId": "4481efde-53fe-44ac-a744-bf2b957d05db"
      },
      "execution_count": null,
      "outputs": [
        {
          "output_type": "execute_result",
          "data": {
            "text/plain": [
              "[1, 2, 46, 3, 4, 5]"
            ]
          },
          "metadata": {},
          "execution_count": 73
        }
      ]
    },
    {
      "cell_type": "code",
      "source": [
        "a=[1,3]\n",
        "#a*3\n",
        "a+a"
      ],
      "metadata": {
        "colab": {
          "base_uri": "https://localhost:8080/"
        },
        "id": "OEDkzlFSDF-u",
        "outputId": "3dee4dc9-df86-465a-86d1-0f44abec549c"
      },
      "execution_count": null,
      "outputs": [
        {
          "output_type": "execute_result",
          "data": {
            "text/plain": [
              "[1, 3, 1, 3]"
            ]
          },
          "metadata": {},
          "execution_count": 50
        }
      ]
    },
    {
      "cell_type": "code",
      "source": [
        "a=[1,3]\n",
        "b=[3,5]\n",
        "c= a+b\n",
        "c"
      ],
      "metadata": {
        "colab": {
          "base_uri": "https://localhost:8080/"
        },
        "id": "8FJjiUy4C6kI",
        "outputId": "638e2a93-7e24-4a05-f9eb-7d76aeded5b8"
      },
      "execution_count": null,
      "outputs": [
        {
          "output_type": "execute_result",
          "data": {
            "text/plain": [
              "[1, 3, 3, 5]"
            ]
          },
          "metadata": {},
          "execution_count": 53
        }
      ]
    },
    {
      "cell_type": "code",
      "source": [
        "a = [1,2,3,4,5]\n",
        "#a.clear()\n",
        "del a\n"
      ],
      "metadata": {
        "id": "ejs1sXNNISne"
      },
      "execution_count": null,
      "outputs": []
    },
    {
      "cell_type": "code",
      "source": [
        "a = [1,2,3,4,5,6]\n",
        "# a.pop()\n",
        "# a.pop()\n",
        "a.remove(3)\n",
        "a"
      ],
      "metadata": {
        "colab": {
          "base_uri": "https://localhost:8080/"
        },
        "id": "I1gkbO7bI3x6",
        "outputId": "cb497cd8-c82e-49f7-9d7f-3722207e762c"
      },
      "execution_count": null,
      "outputs": [
        {
          "output_type": "execute_result",
          "data": {
            "text/plain": [
              "[1, 2, 4, 5, 6]"
            ]
          },
          "metadata": {},
          "execution_count": 79
        }
      ]
    },
    {
      "cell_type": "code",
      "source": [],
      "metadata": {
        "id": "CSfkvisUKvGn"
      },
      "execution_count": null,
      "outputs": []
    }
  ]
}